{
 "cells": [
  {
   "cell_type": "code",
   "execution_count": 1,
   "id": "523bb9a3-7ebd-47ee-a659-1d7e54016907",
   "metadata": {},
   "outputs": [
    {
     "name": "stdin",
     "output_type": "stream",
     "text": [
      "Enter your name: Jatin Singla\n",
      "Enter your age: 20\n",
      "Enter your aadhar card number: 820000275866\n"
     ]
    },
    {
     "name": "stdout",
     "output_type": "stream",
     "text": [
      "You are eligible for vote\n",
      "Choose the party you want to vote:\n",
      "1. BJP\n",
      "2. Congress\n",
      "3. Shivsena\n",
      "4. AAP\n"
     ]
    },
    {
     "name": "stdin",
     "output_type": "stream",
     "text": [
      "Enter your choice: 1\n"
     ]
    },
    {
     "name": "stdout",
     "output_type": "stream",
     "text": [
      "You voted BJP\n",
      "Thank You!\n"
     ]
    }
   ],
   "source": [
    "#voting System\n",
    "name=str(input(\"Enter your name:\"))\n",
    "age=int(input(\"Enter your age:\"))\n",
    "aadhar=int(input(\"Enter your aadhar card number:\"))\n",
    "if(age>=18):\n",
    "    print(\"You are eligible for vote\")\n",
    "else:\n",
    "    print(\"You are not eligible for vote\")\n",
    "if(age>=18):\n",
    "    print(\"Choose the party you want to vote:\")\n",
    "    print('1. BJP')\n",
    "    print('2. Congress')\n",
    "    print('3. Shivsena')\n",
    "    print('4. AAP')\n",
    "    choice=int(input(\"Enter your choice:\"))\n",
    "    if(choice==1):\n",
    "        print(\"You voted BJP\")\n",
    "        print(\"Thank You!\")\n",
    "    elif(choice==2):\n",
    "        print(\"You voted Congress\")\n",
    "        print(\"Thank You!\")\n",
    "    elif(choice==3):\n",
    "        print(\"You voted Shivsena\")\n",
    "        print(\"Thank You!\")\n",
    "    elif(choice==4):\n",
    "        print(\"You voted AAP\")\n",
    "        print(\"Thank You!\")\n",
    "    else:\n",
    "        print(\"You entered wrong input\")"
   ]
  },
  {
   "cell_type": "code",
   "execution_count": null,
   "id": "45cd2dc6-ede6-48a1-bdf7-4b2987a65048",
   "metadata": {},
   "outputs": [],
   "source": []
  }
 ],
 "metadata": {
  "kernelspec": {
   "display_name": "Python 3 (ipykernel)",
   "language": "python",
   "name": "python3"
  },
  "language_info": {
   "codemirror_mode": {
    "name": "ipython",
    "version": 3
   },
   "file_extension": ".py",
   "mimetype": "text/x-python",
   "name": "python",
   "nbconvert_exporter": "python",
   "pygments_lexer": "ipython3",
   "version": "3.12.3"
  }
 },
 "nbformat": 4,
 "nbformat_minor": 5
}

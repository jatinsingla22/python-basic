{
 "cells": [
  {
   "cell_type": "code",
   "execution_count": 2,
   "id": "cf8f1a6e-9da5-4638-b999-958d76b8473f",
   "metadata": {},
   "outputs": [
    {
     "name": "stdin",
     "output_type": "stream",
     "text": [
      "Enter the name of student: Jatin Singla\n",
      "Enter the roll_number of student: 231500\n",
      "Enter the marks of maths: 99\n",
      "Enter the marks of english: 98\n",
      "Enter the marks of hindi: 85\n"
     ]
    },
    {
     "name": "stdout",
     "output_type": "stream",
     "text": [
      "Your totalmarks are: 282\n",
      "Your average is: 94.0\n",
      "your Grade is:A\n"
     ]
    }
   ],
   "source": [
    "name=str(input(\"Enter the name of student:\"))\n",
    "Roll_number=int(input(\"Enter the roll_number of student:\"))\n",
    "M1=int(input(\"Enter the marks of maths:\"))\n",
    "M2=int(input(\"Enter the marks of english:\"))\n",
    "M3=int(input(\"Enter the marks of hindi:\"))\n",
    "total_marks=M1+M2+M3\n",
    "print(\"Your totalmarks are:\",total_marks)\n",
    "avg=total_marks/3\n",
    "print(\"Your average is:\",avg)\n",
    "if(90<=avg<=100):\n",
    "    print(\"your Grade is:A\")\n",
    "elif(80<=avg<=89):\n",
    "    print(\"your Grade is:B\")\n",
    "elif(70<=avg<=79):\n",
    "    print(\"your Grade is:C\")\n",
    "elif(40<=avg<=69):\n",
    "    print(\"your Grade is:D\")\n",
    "else:\n",
    "    print(\"Fail\")\n"
   ]
  },
  {
   "cell_type": "code",
   "execution_count": null,
   "id": "a5b88bdf-0355-4668-b3a4-5a8e275d80e8",
   "metadata": {},
   "outputs": [],
   "source": []
  }
 ],
 "metadata": {
  "kernelspec": {
   "display_name": "Python 3 (ipykernel)",
   "language": "python",
   "name": "python3"
  },
  "language_info": {
   "codemirror_mode": {
    "name": "ipython",
    "version": 3
   },
   "file_extension": ".py",
   "mimetype": "text/x-python",
   "name": "python",
   "nbconvert_exporter": "python",
   "pygments_lexer": "ipython3",
   "version": "3.12.3"
  }
 },
 "nbformat": 4,
 "nbformat_minor": 5
}

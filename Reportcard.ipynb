{
 "cells": [
  {
   "cell_type": "code",
   "execution_count": null,
   "id": "71e9cbbe-db49-4e9c-ad46-d9d0b6555a27",
   "metadata": {},
   "outputs": [],
   "source": [
    "input_file_path = \"C:\\\\Users\\\\Jatin\\\\OneDrive\\\\Documents\\\\student_data.txt\"\n",
    "output_file_path = \"C:\\\\Users\\\\Jatin\\\\OneDrive\\\\Documents\\\\report_card.txt\"\n",
    "\n",
    "with open(\"C:\\\\Users\\\\Jatin\\\\OneDrive\\\\Documents\\\\student_data.txt\", 'r') as file:\n",
    "    lines = file.readlines()\n",
    "\n",
    "report_card = \"\"\n",
    "for idx, line in enumerate(lines):\n",
    "    data = line.strip().split(',')\n",
    "    student_id = idx + 1\n",
    "    name = data[0]\n",
    "    marks = list(map(int, data[1:]))\n",
    "    total_marks = sum(marks)\n",
    "    average_marks = total_marks / len(marks)\n",
    "\n",
    "    if average_marks >= 90:\n",
    "        grade = 'A'\n",
    "    elif average_marks >= 80:\n",
    "        grade = 'B'\n",
    "    elif average_marks >= 70:\n",
    "        grade = 'C'\n",
    "    elif average_marks >= 60:\n",
    "        grade = 'D'\n",
    "    else:\n",
    "        grade = 'F'\n",
    "\n",
    "    report_card += f\"ID: {student_id}\\nName: {name}\\nMarks: {', '.join(map(str, marks))}\\nTotal Marks: {total_marks}\\nAverage Marks: {average_marks:.2f}\\nGrade: {grade}\\n\\n\"\n",
    "\n",
    "with open(\"C:\\\\Users\\\\JATIN\\\\OneDrive\\\\Documents\\\\report_card.txt\", 'w') as file:\n",
    "    file.write(report_card)"
   ]
  }
 ],
 "metadata": {
  "kernelspec": {
   "display_name": "Python 3 (ipykernel)",
   "language": "python",
   "name": "python3"
  },
  "language_info": {
   "codemirror_mode": {
    "name": "ipython",
    "version": 3
   },
   "file_extension": ".py",
   "mimetype": "text/x-python",
   "name": "python",
   "nbconvert_exporter": "python",
   "pygments_lexer": "ipython3",
   "version": "3.12.3"
  }
 },
 "nbformat": 4,
 "nbformat_minor": 5
}

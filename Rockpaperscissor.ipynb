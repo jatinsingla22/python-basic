{
 "cells": [
  {
   "cell_type": "code",
   "execution_count": 2,
   "id": "f1b3680f-0732-4c3f-be8f-33c5ae544b40",
   "metadata": {},
   "outputs": [
    {
     "name": "stdin",
     "output_type": "stream",
     "text": [
      "Choose Rock, Paper, or Scissors:  Scissors\n"
     ]
    },
    {
     "name": "stdout",
     "output_type": "stream",
     "text": [
      "You chose:  Scissors\n",
      "Computer chose:  Rock\n",
      "Computer wins!\n"
     ]
    }
   ],
   "source": [
    "#Rock,Paper,Scissor game\n",
    "\n",
    "import random\n",
    "options = [\"Rock\", \"Paper\", \"Scissors\"]\n",
    "user_choice = input(\"Choose Rock, Paper, or Scissors: \")\n",
    "computer_choice = random.choice(options)\n",
    "print(\"You chose: \", user_choice)\n",
    "print(\"Computer chose: \", computer_choice)\n",
    "if user_choice == computer_choice:\n",
    "    print(\"It's a tie!\")\n",
    "elif user_choice == \"Rock\" and computer_choice == \"Scissors\":\n",
    "    print(\"You win!\")\n",
    "elif user_choice == \"Paper\" and computer_choice == \"Rock\":\n",
    "    print(\"You win!\")\n",
    "elif user_choice == \"Scissors\" and computer_choice == \"Paper\":\n",
    "    print(\"You win!\")\n",
    "else:\n",
    "    print(\"Computer wins!\")\n"
   ]
  },
  {
   "cell_type": "code",
   "execution_count": null,
   "id": "f21ffdb7-86ea-4894-a034-462102afe8bd",
   "metadata": {},
   "outputs": [],
   "source": []
  }
 ],
 "metadata": {
  "kernelspec": {
   "display_name": "Python 3 (ipykernel)",
   "language": "python",
   "name": "python3"
  },
  "language_info": {
   "codemirror_mode": {
    "name": "ipython",
    "version": 3
   },
   "file_extension": ".py",
   "mimetype": "text/x-python",
   "name": "python",
   "nbconvert_exporter": "python",
   "pygments_lexer": "ipython3",
   "version": "3.12.3"
  }
 },
 "nbformat": 4,
 "nbformat_minor": 5
}

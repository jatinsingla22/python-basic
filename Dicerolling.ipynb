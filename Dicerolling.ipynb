{
 "cells": [
  {
   "cell_type": "code",
   "execution_count": 2,
   "id": "f082a7d0-e024-4c31-92af-bc0febae358b",
   "metadata": {},
   "outputs": [
    {
     "name": "stdout",
     "output_type": "stream",
     "text": [
      "Welcome to the Dice Rolling Program!\n",
      "1. Roll the dice\n",
      "2. Exit\n"
     ]
    },
    {
     "name": "stdin",
     "output_type": "stream",
     "text": [
      "What is your choice from above? Enter your choice: 1\n"
     ]
    },
    {
     "name": "stdout",
     "output_type": "stream",
     "text": [
      "Your no. is: 3\n",
      "------------Enjoy the game-------------\n",
      "1. Roll the dice\n",
      "2. Exit\n"
     ]
    },
    {
     "name": "stdin",
     "output_type": "stream",
     "text": [
      "What is your choice from above? Enter your choice: 1\n"
     ]
    },
    {
     "name": "stdout",
     "output_type": "stream",
     "text": [
      "Your no. is: 4\n",
      "------------Enjoy the game-------------\n",
      "1. Roll the dice\n",
      "2. Exit\n"
     ]
    },
    {
     "name": "stdin",
     "output_type": "stream",
     "text": [
      "What is your choice from above? Enter your choice: 2\n"
     ]
    }
   ],
   "source": [
    "#dice Rolling\n",
    "import random\n",
    "print(\"Welcome to the Dice Rolling Program!\")\n",
    "while True:\n",
    "    print(\"1. Roll the dice\")\n",
    "    print(\"2. Exit\")\n",
    "    user=int(input(\"What is your choice from above? Enter your choice:\"))\n",
    "    if user==1:\n",
    "        number=random.randint(1,6)\n",
    "        print(\"Your no. is:\",number)\n",
    "        print(\"------------Enjoy the game-------------\")\n",
    "    else:\n",
    "        break\n",
    "\n"
   ]
  },
  {
   "cell_type": "code",
   "execution_count": null,
   "id": "d3dfcaac-1469-4481-ad69-25789d51316b",
   "metadata": {},
   "outputs": [],
   "source": []
  }
 ],
 "metadata": {
  "kernelspec": {
   "display_name": "Python 3 (ipykernel)",
   "language": "python",
   "name": "python3"
  },
  "language_info": {
   "codemirror_mode": {
    "name": "ipython",
    "version": 3
   },
   "file_extension": ".py",
   "mimetype": "text/x-python",
   "name": "python",
   "nbconvert_exporter": "python",
   "pygments_lexer": "ipython3",
   "version": "3.12.3"
  }
 },
 "nbformat": 4,
 "nbformat_minor": 5
}

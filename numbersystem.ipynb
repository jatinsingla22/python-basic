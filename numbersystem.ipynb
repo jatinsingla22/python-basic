{
 "cells": [
  {
   "cell_type": "code",
   "execution_count": 1,
   "id": "a111bdf5-a1f4-4adf-badf-82d1dfa439e0",
   "metadata": {},
   "outputs": [
    {
     "name": "stdin",
     "output_type": "stream",
     "text": [
      "Enter starting: 0\n",
      "Enter ending: 20\n",
      "Enter updation: 1\n",
      "5 for forward and 6 for reverse: 5\n",
      "0 for horizontal and 1 for vertical: 0\n"
     ]
    },
    {
     "name": "stdout",
     "output_type": "stream",
     "text": [
      "0,1,2,3,4,5,6,7,8,9,10,11,12,13,14,15,16,17,18,19,20,"
     ]
    }
   ],
   "source": [
    "#Program to make Number system(forward,reverse,horizontal,vertical) \n",
    "a=int(input(\"Enter starting:\"))\n",
    "b=int(input(\"Enter ending:\"))\n",
    "u=int(input(\"Enter updation:\"))\n",
    "c=int(input(\"5 for forward and 6 for reverse:\"))\n",
    "hv=int(input(\"0 for horizontal and 1 for vertical:\"))\n",
    "if(c==5):\n",
    "    for i in range(a,b+1,u):\n",
    "        if(hv==0):\n",
    "            print(i,end=',')\n",
    "        elif(hv==1):\n",
    "            print(i)\n",
    "        else:\n",
    "            print(\"invalid\")\n",
    "elif(c==6):\n",
    "    for i in range(a,b-1,-u):\n",
    "        if(hv==0):\n",
    "            print(i,end=',')\n",
    "        elif(hv==1):\n",
    "            print(i)\n",
    "        else:\n",
    "            print(\"Invalid\")\n",
    "else:\n",
    "    print(\"Invalid\")"
   ]
  },
  {
   "cell_type": "code",
   "execution_count": null,
   "id": "e6e49944-fa5a-467d-af6d-e6e5b55e670d",
   "metadata": {},
   "outputs": [],
   "source": []
  }
 ],
 "metadata": {
  "kernelspec": {
   "display_name": "Python 3 (ipykernel)",
   "language": "python",
   "name": "python3"
  },
  "language_info": {
   "codemirror_mode": {
    "name": "ipython",
    "version": 3
   },
   "file_extension": ".py",
   "mimetype": "text/x-python",
   "name": "python",
   "nbconvert_exporter": "python",
   "pygments_lexer": "ipython3",
   "version": "3.12.3"
  }
 },
 "nbformat": 4,
 "nbformat_minor": 5
}

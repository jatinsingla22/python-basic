{
 "cells": [
  {
   "cell_type": "code",
   "execution_count": null,
   "id": "9e28bc97-78f2-4abf-a6fb-a8dcc0fdd297",
   "metadata": {},
   "outputs": [],
   "source": []
  },
  {
   "cell_type": "code",
   "execution_count": 1,
   "id": "b954ac1d-5c88-48f1-a0ac-35fc7c95a583",
   "metadata": {},
   "outputs": [
    {
     "name": "stdout",
     "output_type": "stream",
     "text": [
      "Choose number for operator:\n",
      "1. Addition\n",
      "2. Subtract\n",
      "3. Multiplication\n",
      "4. Division\n"
     ]
    },
    {
     "name": "stdin",
     "output_type": "stream",
     "text": [
      "Enter Choosen number: 3\n",
      "Enter the 1st number:  2\n",
      "Enter the 2nd number:  3\n"
     ]
    },
    {
     "name": "stdout",
     "output_type": "stream",
     "text": [
      "6.0\n"
     ]
    }
   ],
   "source": [
    "#Simple Calculator\n",
    "print(\"Choose number for operator:\")\n",
    "print(\"1. Addition\")\n",
    "print(\"2. Subtract\")\n",
    "print(\"3. Multiplication\")\n",
    "print(\"4. Division\")\n",
    "operator = input(\"Enter Choosen number:\")\n",
    "num1 = float(input(\"Enter the 1st number: \"))\n",
    "num2 = float(input(\"Enter the 2nd number: \"))\n",
    "if operator == \"1\":\n",
    "    print(num1+num2)\n",
    "elif operator == \"2\":\n",
    "    print(num1 - num2)\n",
    "elif operator == \"3\":\n",
    "    print(num1 * num2)\n",
    "elif operator == \"4\":\n",
    "    print(num1 / num2)\n",
    "else:\n",
    "    print(f\"{operator} is not a valid operator\")"
   ]
  },
  {
   "cell_type": "code",
   "execution_count": null,
   "id": "c561689e-3826-40ad-b9b2-5217c03f68d1",
   "metadata": {},
   "outputs": [],
   "source": []
  }
 ],
 "metadata": {
  "kernelspec": {
   "display_name": "Python 3 (ipykernel)",
   "language": "python",
   "name": "python3"
  },
  "language_info": {
   "codemirror_mode": {
    "name": "ipython",
    "version": 3
   },
   "file_extension": ".py",
   "mimetype": "text/x-python",
   "name": "python",
   "nbconvert_exporter": "python",
   "pygments_lexer": "ipython3",
   "version": "3.12.3"
  }
 },
 "nbformat": 4,
 "nbformat_minor": 5
}

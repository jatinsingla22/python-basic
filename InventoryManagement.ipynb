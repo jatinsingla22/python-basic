{
 "cells": [
  {
   "cell_type": "code",
   "execution_count": 2,
   "id": "63826884-d958-425b-9ca8-9ec3e8d71e90",
   "metadata": {},
   "outputs": [
    {
     "name": "stdout",
     "output_type": "stream",
     "text": [
      "Welcome to the Supermarket!\n",
      "\n",
      "Available Items:\n",
      "A1: Guava - ₹16 (10 in stock)\n",
      "B2: Pineapple - ₹8 (20 in stock)\n",
      "C3: Badam shake - ₹50 (5 in stock)\n",
      "\n",
      "1. Add Item\n",
      "2. View Cart\n",
      "3. Remove Item\n",
      "4. Checkout\n",
      "5. Exit\n"
     ]
    },
    {
     "name": "stdin",
     "output_type": "stream",
     "text": [
      "Enter your choice:  1\n",
      "Enter the ID of the item:  A1\n",
      "Enter quantity (available: 10):  6\n"
     ]
    },
    {
     "name": "stdout",
     "output_type": "stream",
     "text": [
      "6 Guava added to cart!\n",
      "\n",
      "Available Items:\n",
      "A1: Guava - ₹16 (4 in stock)\n",
      "B2: Pineapple - ₹8 (20 in stock)\n",
      "C3: Badam shake - ₹50 (5 in stock)\n",
      "\n",
      "1. Add Item\n",
      "2. View Cart\n",
      "3. Remove Item\n",
      "4. Checkout\n",
      "5. Exit\n"
     ]
    },
    {
     "name": "stdin",
     "output_type": "stream",
     "text": [
      "Enter your choice:  4\n"
     ]
    },
    {
     "name": "stdout",
     "output_type": "stream",
     "text": [
      "\n",
      "Your Cart:\n",
      "6 Guava - ₹16 each\n",
      "\n",
      "Total Amount: ₹96\n",
      "You only have to use cash any other method is not allowed\n",
      "Thank you for shopping!\n"
     ]
    }
   ],
   "source": [
    "# Inventory Management System\n",
    "\n",
    "inventory = {\n",
    "        \"A1\": {\"name\": \"Guava\", \"price\": 16, \"quantity\": 10},\n",
    "        \"B2\": {\"name\": \"Pineapple\", \"price\": 8, \"quantity\": 20},\n",
    "        \"C3\": {\"name\": \"Badam shake\", \"price\": 50, \"quantity\": 5},\n",
    "    }\n",
    "\n",
    "cart = {}\n",
    "total_amount = 0\n",
    "\n",
    "print(\"Welcome to the Supermarket!\")\n",
    "\n",
    "while True:\n",
    "        print(\"\\nAvailable Items:\")\n",
    "\n",
    "        for id, details in inventory.items():\n",
    "            print(f\"{id}: {details['name']} - ₹{details['price']} ({details['quantity']} in stock)\")\n",
    "\n",
    "        print(\"\\n1. Add Item\")\n",
    "        print(\"2. View Cart\")\n",
    "        print(\"3. Remove Item\")\n",
    "        print(\"4. Checkout\")\n",
    "        print(\"5. Exit\")\n",
    "\n",
    "        choice = input(\"Enter your choice: \")\n",
    "\n",
    "        if choice in ['1', '3']:\n",
    "\n",
    "            id = input(\"Enter the ID of the item: \")\n",
    "\n",
    "            if id in inventory:\n",
    "\n",
    "                if choice == '1':\n",
    "                    quantity_available = inventory[id][\"quantity\"]\n",
    "                    quantity = int(input(f\"Enter quantity (available: {quantity_available}): \"))\n",
    "\n",
    "                    if quantity <= quantity_available:\n",
    "                        inventory[id][\"quantity\"] -= quantity\n",
    "                        cart[id] = cart.get(id, 0) + quantity\n",
    "                        total_amount += quantity * inventory[id][\"price\"]\n",
    "                        print(f\"{quantity} {inventory[id]['name']} added to cart!\")\n",
    "\n",
    "                    else:\n",
    "                        print(f\"Insufficient quantity of {inventory[id]['name']} available.\")\n",
    "\n",
    "                else:\n",
    "\n",
    "                    if id in cart:\n",
    "                        quantity_in_cart = cart[id]\n",
    "                        quantity = int(input(f\"Enter quantity to remove (in your cart: {quantity_in_cart}): \"))\n",
    "\n",
    "                        if quantity <= quantity_in_cart:\n",
    "                            inventory[id][\"quantity\"] += quantity\n",
    "                            cart[id] -= quantity\n",
    "                            total_amount -= quantity * inventory[id][\"price\"]\n",
    "                            if cart[id] == 0:\n",
    "                                del cart[id]\n",
    "                            print(f\"{quantity} {inventory[id]['name']} removed from cart.\")\n",
    "\n",
    "                        else:\n",
    "                            print(f\"Insufficient quantity of {inventory[id]['name']} in your cart.\")\n",
    "\n",
    "                    else:\n",
    "                        print(f\"Item with ID '{id}' not found in your cart.\")\n",
    "\n",
    "        elif choice == '2':\n",
    "\n",
    "            if not cart:\n",
    "                print(\"Your cart is empty.\")\n",
    "\n",
    "            else:\n",
    "                print(\"\\nYour Cart:\")\n",
    "                for id, quantity in cart.items():\n",
    "                    details = inventory[id]\n",
    "                    print(f\"{quantity} {details['name']} - ₹{details['price']} each\")\n",
    "                print(f\"\\nTotal Amount: ₹{total_amount}\")\n",
    "\n",
    "        elif choice == '4':\n",
    "\n",
    "            if not cart:\n",
    "                print(\"Your cart is empty. Please add items before checkout.\")\n",
    "\n",
    "            else:\n",
    "                print(\"\\nYour Cart:\")\n",
    "                for id, quantity in cart.items():\n",
    "                    details = inventory[id]\n",
    "                    print(f\"{quantity} {details['name']} - ₹{details['price']} each\")\n",
    "                print(f\"\\nTotal Amount: ₹{total_amount}\")\n",
    "                print(\"You only have to use cash any other method is not allowed\")\n",
    "                print(\"Thank you for shopping!\")\n",
    "                break\n",
    "\n",
    "        elif choice == '5':\n",
    "            print(\"Thank you for visiting!\")\n",
    "            break\n",
    "\n",
    "        else:\n",
    "            print(\"Invalid choice. Please try again.\")"
   ]
  },
  {
   "cell_type": "code",
   "execution_count": null,
   "id": "6598cab3-56c9-4be9-a9ce-d99d7f8fca16",
   "metadata": {},
   "outputs": [],
   "source": []
  }
 ],
 "metadata": {
  "kernelspec": {
   "display_name": "Python 3 (ipykernel)",
   "language": "python",
   "name": "python3"
  },
  "language_info": {
   "codemirror_mode": {
    "name": "ipython",
    "version": 3
   },
   "file_extension": ".py",
   "mimetype": "text/x-python",
   "name": "python",
   "nbconvert_exporter": "python",
   "pygments_lexer": "ipython3",
   "version": "3.12.3"
  }
 },
 "nbformat": 4,
 "nbformat_minor": 5
}
